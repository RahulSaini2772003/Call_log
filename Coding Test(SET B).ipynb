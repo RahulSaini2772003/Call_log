{
 "cells": [
  {
   "cell_type": "markdown",
   "metadata": {},
   "source": [
    "#  &emsp;&emsp;&emsp;&emsp;&emsp;&emsp;&emsp;&emsp;&emsp;&emsp;&emsp;&emsp;&emsp;&emsp;Coding Assignment \n",
    "##  Duration: 3 Hours     SET B    \n",
    "### **Instructions :-**\n",
    " \n",
    "-  This assignment must be implemented using any preferred programming language. \n",
    "-  Use of Internet is allowed for referring to programming language related syntax and troubleshooting. \n",
    "-  Create readme file along with your code and attach screenshots of your output. \n",
    "-  Readme, code, and Output screenshots should be attached in ZIP file. \n",
    " \n",
    " \n",
    "#### **Problem Statements** \n",
    "You have been given a call log file of the telecommunication company which consist the From Number(10Digit) To \n",
    "Number(10Digit) and Call Duration (HH:MM: SS). Company recently launched the new plan stating that, \n",
    "- If the Call Duration is below 1 min then there will be no cost. (Free) \n",
    "- If the Call Duration is above 1 min then it will be charged at 30paise/min \n",
    " \n",
    "Sample call log file is given. Every entry is a valid record. If there is a duplicate entry means person X is calling \n",
    "person Y for more than one times in a day. Below is the call log file for a day:  \n",
    "### **Data Set:-**\n",
    "```csv \n",
    "From Mobile,    To Mobile,    Call Duration \n",
    " 9898989898,   8989898989,     00:05:23 \n",
    " 1898989898,   9989898989,     01:00:23 \n",
    " 2898989898,   7989898989,     00:00:21 \n",
    " 2898989898,   6989898989,     00:00:23 \n",
    " 4898989898,   5989898989,     00:01:23 \n",
    " 5898989898,   4989898989,     00:05:55 \n",
    " 5898989898,   3989898989,     00:00:23 \n",
    " 7898989898,   2989898989,     00:02:23 \n",
    " 8898989898,   1189898989,     00:05:20 \n",
    " 1098989898,   8459898989,     00:00:23 \n",
    " 1898989898,   8967898989,     00:00:40 \n",
    " 2898989898,   8989898989,     00:05:23 \n",
    "```"
   ]
  },
  {
   "cell_type": "code",
   "execution_count": 30,
   "metadata": {},
   "outputs": [],
   "source": [
    "import pandas as pd\n"
   ]
  },
  {
   "cell_type": "code",
   "execution_count": 31,
   "metadata": {},
   "outputs": [
    {
     "data": {
      "text/html": [
       "<div>\n",
       "<style scoped>\n",
       "    .dataframe tbody tr th:only-of-type {\n",
       "        vertical-align: middle;\n",
       "    }\n",
       "\n",
       "    .dataframe tbody tr th {\n",
       "        vertical-align: top;\n",
       "    }\n",
       "\n",
       "    .dataframe thead th {\n",
       "        text-align: right;\n",
       "    }\n",
       "</style>\n",
       "<table border=\"1\" class=\"dataframe\">\n",
       "  <thead>\n",
       "    <tr style=\"text-align: right;\">\n",
       "      <th></th>\n",
       "      <th>From Mobile</th>\n",
       "      <th>To Mobile</th>\n",
       "      <th>Call Duration</th>\n",
       "    </tr>\n",
       "  </thead>\n",
       "  <tbody>\n",
       "    <tr>\n",
       "      <th>0</th>\n",
       "      <td>9898989898</td>\n",
       "      <td>8989898989</td>\n",
       "      <td>00:05:23</td>\n",
       "    </tr>\n",
       "    <tr>\n",
       "      <th>1</th>\n",
       "      <td>1898989898</td>\n",
       "      <td>9989898989</td>\n",
       "      <td>01:00:23</td>\n",
       "    </tr>\n",
       "    <tr>\n",
       "      <th>2</th>\n",
       "      <td>2898989898</td>\n",
       "      <td>7989898989</td>\n",
       "      <td>00:00:21</td>\n",
       "    </tr>\n",
       "    <tr>\n",
       "      <th>3</th>\n",
       "      <td>2898989898</td>\n",
       "      <td>6989898989</td>\n",
       "      <td>00:00:23</td>\n",
       "    </tr>\n",
       "    <tr>\n",
       "      <th>4</th>\n",
       "      <td>4898989898</td>\n",
       "      <td>5989898989</td>\n",
       "      <td>00:01:23</td>\n",
       "    </tr>\n",
       "    <tr>\n",
       "      <th>5</th>\n",
       "      <td>5898989898</td>\n",
       "      <td>4989898989</td>\n",
       "      <td>00:05:55</td>\n",
       "    </tr>\n",
       "    <tr>\n",
       "      <th>6</th>\n",
       "      <td>5898989898</td>\n",
       "      <td>3989898989</td>\n",
       "      <td>00:00:23</td>\n",
       "    </tr>\n",
       "    <tr>\n",
       "      <th>7</th>\n",
       "      <td>7898989898</td>\n",
       "      <td>2989898989</td>\n",
       "      <td>00:02:23</td>\n",
       "    </tr>\n",
       "    <tr>\n",
       "      <th>8</th>\n",
       "      <td>8898989898</td>\n",
       "      <td>1189898989</td>\n",
       "      <td>00:05:20</td>\n",
       "    </tr>\n",
       "    <tr>\n",
       "      <th>9</th>\n",
       "      <td>1098989898</td>\n",
       "      <td>8459898989</td>\n",
       "      <td>00:00:23</td>\n",
       "    </tr>\n",
       "    <tr>\n",
       "      <th>10</th>\n",
       "      <td>1898989898</td>\n",
       "      <td>8967898989</td>\n",
       "      <td>00:00:40</td>\n",
       "    </tr>\n",
       "    <tr>\n",
       "      <th>11</th>\n",
       "      <td>2898989898</td>\n",
       "      <td>8989898989</td>\n",
       "      <td>00:05:23</td>\n",
       "    </tr>\n",
       "  </tbody>\n",
       "</table>\n",
       "</div>"
      ],
      "text/plain": [
       "    From Mobile   To Mobile  Call Duration\n",
       "0    9898989898  8989898989       00:05:23\n",
       "1    1898989898  9989898989       01:00:23\n",
       "2    2898989898  7989898989       00:00:21\n",
       "3    2898989898  6989898989       00:00:23\n",
       "4    4898989898  5989898989       00:01:23\n",
       "5    5898989898  4989898989       00:05:55\n",
       "6    5898989898  3989898989       00:00:23\n",
       "7    7898989898  2989898989       00:02:23\n",
       "8    8898989898  1189898989       00:05:20\n",
       "9    1098989898  8459898989       00:00:23\n",
       "10   1898989898  8967898989       00:00:40\n",
       "11   2898989898  8989898989       00:05:23"
      ]
     },
     "execution_count": 31,
     "metadata": {},
     "output_type": "execute_result"
    }
   ],
   "source": [
    "mb = pd.read_csv('Call_Log.csv')\n",
    "mb"
   ]
  },
  {
   "cell_type": "markdown",
   "metadata": {},
   "source": [
    "## 1. Find the distinct From Numbers for a day. \n"
   ]
  },
  {
   "cell_type": "code",
   "execution_count": 32,
   "metadata": {},
   "outputs": [
    {
     "data": {
      "text/plain": [
       "array([9898989898, 1898989898, 2898989898, 4898989898, 5898989898,\n",
       "       7898989898, 8898989898, 1098989898], dtype=int64)"
      ]
     },
     "execution_count": 32,
     "metadata": {},
     "output_type": "execute_result"
    }
   ],
   "source": [
    "mb['From Mobile'].unique()"
   ]
  },
  {
   "cell_type": "markdown",
   "metadata": {},
   "source": [
    "## 2. Find the distinct From Numbers who used the Free Plan. (Call Duration less than 1 min) \n"
   ]
  },
  {
   "cell_type": "code",
   "execution_count": 33,
   "metadata": {},
   "outputs": [
    {
     "name": "stdout",
     "output_type": "stream",
     "text": [
      "2     2898989898\n",
      "3     2898989898\n",
      "6     5898989898\n",
      "9     1098989898\n",
      "10    1898989898\n",
      "Name: From Mobile, dtype: int64\n"
     ]
    }
   ],
   "source": [
    "v1 = mb[' Call Duration'].str.split(':').str[1].astype(int)< 1\n",
    "v2 = mb[' Call Duration'].str.split(':').str[0].astype(int) <= 0\n",
    "data = pd.Series(v1&v2)\n",
    "data = data.tolist()\n",
    "mb['ch'] = data                                 # for add extra column\n",
    "print(mb[mb['ch'] == True]['From Mobile'])\n",
    "mb.drop('ch' , axis = 1, inplace = True)        # for remove extra column"
   ]
  },
  {
   "cell_type": "markdown",
   "metadata": {},
   "source": [
    "## 3. Find the total call duration with respect to From Number \n"
   ]
  },
  {
   "cell_type": "code",
   "execution_count": 34,
   "metadata": {},
   "outputs": [
    {
     "data": {
      "text/html": [
       "<div>\n",
       "<style scoped>\n",
       "    .dataframe tbody tr th:only-of-type {\n",
       "        vertical-align: middle;\n",
       "    }\n",
       "\n",
       "    .dataframe tbody tr th {\n",
       "        vertical-align: top;\n",
       "    }\n",
       "\n",
       "    .dataframe thead th {\n",
       "        text-align: right;\n",
       "    }\n",
       "</style>\n",
       "<table border=\"1\" class=\"dataframe\">\n",
       "  <thead>\n",
       "    <tr style=\"text-align: right;\">\n",
       "      <th></th>\n",
       "      <th>From Mobile</th>\n",
       "      <th>Call Duration</th>\n",
       "    </tr>\n",
       "  </thead>\n",
       "  <tbody>\n",
       "    <tr>\n",
       "      <th>0</th>\n",
       "      <td>1098989898</td>\n",
       "      <td>0 days 00:00:23</td>\n",
       "    </tr>\n",
       "    <tr>\n",
       "      <th>1</th>\n",
       "      <td>1898989898</td>\n",
       "      <td>0 days 01:01:03</td>\n",
       "    </tr>\n",
       "    <tr>\n",
       "      <th>2</th>\n",
       "      <td>2898989898</td>\n",
       "      <td>0 days 00:06:07</td>\n",
       "    </tr>\n",
       "    <tr>\n",
       "      <th>3</th>\n",
       "      <td>4898989898</td>\n",
       "      <td>0 days 00:01:23</td>\n",
       "    </tr>\n",
       "    <tr>\n",
       "      <th>4</th>\n",
       "      <td>5898989898</td>\n",
       "      <td>0 days 00:06:18</td>\n",
       "    </tr>\n",
       "    <tr>\n",
       "      <th>5</th>\n",
       "      <td>7898989898</td>\n",
       "      <td>0 days 00:02:23</td>\n",
       "    </tr>\n",
       "    <tr>\n",
       "      <th>6</th>\n",
       "      <td>8898989898</td>\n",
       "      <td>0 days 00:05:20</td>\n",
       "    </tr>\n",
       "    <tr>\n",
       "      <th>7</th>\n",
       "      <td>9898989898</td>\n",
       "      <td>0 days 00:05:23</td>\n",
       "    </tr>\n",
       "  </tbody>\n",
       "</table>\n",
       "</div>"
      ],
      "text/plain": [
       "   From Mobile   Call Duration\n",
       "0   1098989898 0 days 00:00:23\n",
       "1   1898989898 0 days 01:01:03\n",
       "2   2898989898 0 days 00:06:07\n",
       "3   4898989898 0 days 00:01:23\n",
       "4   5898989898 0 days 00:06:18\n",
       "5   7898989898 0 days 00:02:23\n",
       "6   8898989898 0 days 00:05:20\n",
       "7   9898989898 0 days 00:05:23"
      ]
     },
     "execution_count": 34,
     "metadata": {},
     "output_type": "execute_result"
    }
   ],
   "source": [
    "mb[' Call Duration'] = pd.to_timedelta(mb[' Call Duration'])\n",
    "mb.groupby('From Mobile')[' Call Duration'].sum().reset_index()"
   ]
  },
  {
   "cell_type": "markdown",
   "metadata": {},
   "source": [
    "## 4. Find the total income for a day. (Cost to be considered for Call Duration greater 1 min) "
   ]
  },
  {
   "cell_type": "code",
   "execution_count": 37,
   "metadata": {},
   "outputs": [
    {
     "name": "stdout",
     "output_type": "stream",
     "text": [
      "Total Cost is : ₹ 40.475\n"
     ]
    }
   ],
   "source": [
    "mb[' Call Duration'] = pd.to_timedelta(mb[' Call Duration'])\n",
    "tm = mb.groupby('From Mobile')[' Call Duration'].sum().value_counts().index\n",
    "total_cost = 0\n",
    "for i in tm:\n",
    "    if i > pd.to_timedelta('0 days 00:01:00'):\n",
    "        ct = i - pd.to_timedelta('0 days 00:01:00')             # because 1 min is free than cost will be apply so we need to subtract 1 min.\n",
    "        total_cost = ((ct.total_seconds()*5)/600)+total_cost    # 50 paisa/min, so 0.50 ₹/minutes,  so 0.50/60 ₹/sec, so now 5/600 ₹/sec\n",
    "print(\"Total Cost is : ₹\" , total_cost)"
   ]
  },
  {
   "cell_type": "code",
   "execution_count": null,
   "metadata": {},
   "outputs": [],
   "source": []
  }
 ],
 "metadata": {
  "kernelspec": {
   "display_name": "base",
   "language": "python",
   "name": "python3"
  },
  "language_info": {
   "codemirror_mode": {
    "name": "ipython",
    "version": 3
   },
   "file_extension": ".py",
   "mimetype": "text/x-python",
   "name": "python",
   "nbconvert_exporter": "python",
   "pygments_lexer": "ipython3",
   "version": "3.11.7"
  }
 },
 "nbformat": 4,
 "nbformat_minor": 2
}
